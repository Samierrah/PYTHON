{
 "cells": [
  {
   "cell_type": "code",
   "execution_count": 2,
   "id": "31b0d706",
   "metadata": {},
   "outputs": [
    {
     "data": {
      "text/plain": [
       "{1, 2, 3, 4, 7, 8, 9, 'abc', 'hello', 'hi'}"
      ]
     },
     "execution_count": 2,
     "metadata": {},
     "output_type": "execute_result"
    }
   ],
   "source": [
    "my_set={1,2,3,4,1,9,8,7,\"abc\",\"hi\",\"hello\"}\n",
    "my_set"
   ]
  },
  {
   "cell_type": "code",
   "execution_count": 3,
   "id": "6974ab15",
   "metadata": {},
   "outputs": [
    {
     "data": {
      "text/plain": [
       "{1, 11.1, 2, 3, 4, 7, 8, 9, 'abc', 'hello', 'hi'}"
      ]
     },
     "execution_count": 3,
     "metadata": {},
     "output_type": "execute_result"
    }
   ],
   "source": [
    "my_set={1,2,3,4,1,9,8,7,11.1,\"abc\",\"hi\",\"hello\"}\n",
    "my_set"
   ]
  },
  {
   "cell_type": "code",
   "execution_count": 4,
   "id": "89b14dc0",
   "metadata": {},
   "outputs": [
    {
     "ename": "TypeError",
     "evalue": "'set' object is not subscriptable",
     "output_type": "error",
     "traceback": [
      "\u001b[1;31m---------------------------------------------------------------------------\u001b[0m",
      "\u001b[1;31mTypeError\u001b[0m                                 Traceback (most recent call last)",
      "\u001b[1;32m~\\AppData\\Local\\Temp/ipykernel_3156/2063814584.py\u001b[0m in \u001b[0;36m<module>\u001b[1;34m\u001b[0m\n\u001b[1;32m----> 1\u001b[1;33m \u001b[0mmy_set\u001b[0m\u001b[1;33m[\u001b[0m\u001b[1;36m0\u001b[0m\u001b[1;33m]\u001b[0m\u001b[1;33m\u001b[0m\u001b[1;33m\u001b[0m\u001b[0m\n\u001b[0m",
      "\u001b[1;31mTypeError\u001b[0m: 'set' object is not subscriptable"
     ]
    }
   ],
   "source": [
    "my_set[0]"
   ]
  },
  {
   "cell_type": "markdown",
   "id": "3416c038",
   "metadata": {},
   "source": [
    "#### set is written in flower brackets\n",
    "#### can't retrieve through index\n"
   ]
  },
  {
   "cell_type": "code",
   "execution_count": 5,
   "id": "8e9c7835",
   "metadata": {},
   "outputs": [
    {
     "data": {
      "text/plain": [
       "{1, 11.1, 2, 3, 4, 7, 9, 'abc', 'hello', 'hi'}"
      ]
     },
     "execution_count": 5,
     "metadata": {},
     "output_type": "execute_result"
    }
   ],
   "source": [
    "my_set.remove(8)\n",
    "my_set"
   ]
  },
  {
   "cell_type": "code",
   "execution_count": 6,
   "id": "a4c90382",
   "metadata": {},
   "outputs": [
    {
     "data": {
      "text/plain": [
       "{1, 11.1, 123, 2, 3, 4, 7, 9, 'abc', 'hello', 'hi'}"
      ]
     },
     "execution_count": 6,
     "metadata": {},
     "output_type": "execute_result"
    }
   ],
   "source": [
    "my_set.add(123)\n",
    "my_set"
   ]
  },
  {
   "cell_type": "markdown",
   "id": "1c96e4fc",
   "metadata": {},
   "source": [
    "#### mutable with add and remove, not with index\n",
    "#### does not allow duplicate"
   ]
  },
  {
   "cell_type": "markdown",
   "id": "ea128a1b",
   "metadata": {},
   "source": [
    "# Dictionary"
   ]
  },
  {
   "cell_type": "code",
   "execution_count": 7,
   "id": "d8f1cfb5",
   "metadata": {},
   "outputs": [
    {
     "data": {
      "text/plain": [
       "{'a': 'fifth', 1: 'first', 5: 17, 7: 'fifth'}"
      ]
     },
     "execution_count": 7,
     "metadata": {},
     "output_type": "execute_result"
    }
   ],
   "source": [
    "my_dict={\"a\":\"first\",1:\"first\",\"a\":\"fifth\",5:17,7:\"fifth\"}\n",
    "my_dict"
   ]
  },
  {
   "cell_type": "code",
   "execution_count": 8,
   "id": "322d9f76",
   "metadata": {},
   "outputs": [
    {
     "data": {
      "text/plain": [
       "'fifth'"
      ]
     },
     "execution_count": 8,
     "metadata": {},
     "output_type": "execute_result"
    }
   ],
   "source": [
    "my_dict[\"a\"]"
   ]
  },
  {
   "cell_type": "code",
   "execution_count": 9,
   "id": "5a27141b",
   "metadata": {
    "scrolled": true
   },
   "outputs": [
    {
     "ename": "KeyError",
     "evalue": "'first'",
     "output_type": "error",
     "traceback": [
      "\u001b[1;31m---------------------------------------------------------------------------\u001b[0m",
      "\u001b[1;31mKeyError\u001b[0m                                  Traceback (most recent call last)",
      "\u001b[1;32m~\\AppData\\Local\\Temp/ipykernel_3156/548672279.py\u001b[0m in \u001b[0;36m<module>\u001b[1;34m\u001b[0m\n\u001b[1;32m----> 1\u001b[1;33m \u001b[0mmy_dict\u001b[0m\u001b[1;33m[\u001b[0m\u001b[1;34m\"first\"\u001b[0m\u001b[1;33m]\u001b[0m\u001b[1;33m\u001b[0m\u001b[1;33m\u001b[0m\u001b[0m\n\u001b[0m",
      "\u001b[1;31mKeyError\u001b[0m: 'first'"
     ]
    }
   ],
   "source": [
    "my_dict[\"first\"]"
   ]
  },
  {
   "cell_type": "code",
   "execution_count": 11,
   "id": "1650df4d",
   "metadata": {},
   "outputs": [],
   "source": [
    "my_dict.update({2:7})"
   ]
  },
  {
   "cell_type": "code",
   "execution_count": 12,
   "id": "4e92afd0",
   "metadata": {},
   "outputs": [
    {
     "data": {
      "text/plain": [
       "{'a': 'fifth', 1: 'first', 5: 17, 7: 'fifth', 2: 7}"
      ]
     },
     "execution_count": 12,
     "metadata": {},
     "output_type": "execute_result"
    }
   ],
   "source": [
    "my_dict\n"
   ]
  },
  {
   "cell_type": "markdown",
   "id": "7602dd4d",
   "metadata": {},
   "source": [
    "#### Dictinary has key-value datastructure\n",
    "#### Curly brackets\n",
    "#### Key is unique\n",
    "#### values can be duplicated\n",
    "#### accessing the value using key is possible"
   ]
  },
  {
   "cell_type": "code",
   "execution_count": null,
   "id": "fd02cd40",
   "metadata": {},
   "outputs": [],
   "source": []
  }
 ],
 "metadata": {
  "kernelspec": {
   "display_name": "Python 3 (ipykernel)",
   "language": "python",
   "name": "python3"
  },
  "language_info": {
   "codemirror_mode": {
    "name": "ipython",
    "version": 3
   },
   "file_extension": ".py",
   "mimetype": "text/x-python",
   "name": "python",
   "nbconvert_exporter": "python",
   "pygments_lexer": "ipython3",
   "version": "3.9.7"
  }
 },
 "nbformat": 4,
 "nbformat_minor": 5
}
