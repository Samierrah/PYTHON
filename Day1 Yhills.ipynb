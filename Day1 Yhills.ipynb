{
 "cells": [
  {
   "cell_type": "markdown",
   "id": "0d74495a",
   "metadata": {},
   "source": [
    "Day1 Yhills"
   ]
  },
  {
   "cell_type": "code",
   "execution_count": 1,
   "id": "8fbb70af",
   "metadata": {},
   "outputs": [
    {
     "name": "stdout",
     "output_type": "stream",
     "text": [
      "Hello World\n"
     ]
    }
   ],
   "source": [
    "print(\"Hello World\")"
   ]
  },
  {
   "cell_type": "code",
   "execution_count": 2,
   "id": "912468eb",
   "metadata": {
    "scrolled": true
   },
   "outputs": [
    {
     "name": "stdout",
     "output_type": "stream",
     "text": [
      "Samierrah\n"
     ]
    }
   ],
   "source": [
    "print(\"Samierrah\")"
   ]
  },
  {
   "cell_type": "markdown",
   "id": "2f65fabd",
   "metadata": {},
   "source": [
    "### print not Print"
   ]
  },
  {
   "cell_type": "code",
   "execution_count": 7,
   "id": "88cc3ce9",
   "metadata": {
    "scrolled": false
   },
   "outputs": [
    {
     "name": "stdout",
     "output_type": "stream",
     "text": [
      "Welcome to the Analytics course\n"
     ]
    }
   ],
   "source": [
    "print(\"Welcome to the Analytics course\")"
   ]
  },
  {
   "cell_type": "markdown",
   "id": "12ce4697",
   "metadata": {},
   "source": [
    "#### print not Print"
   ]
  },
  {
   "cell_type": "markdown",
   "id": "f4c633c0",
   "metadata": {},
   "source": [
    "### Data Types"
   ]
  },
  {
   "cell_type": "code",
   "execution_count": 8,
   "id": "d75c2b56",
   "metadata": {},
   "outputs": [
    {
     "name": "stdout",
     "output_type": "stream",
     "text": [
      "100\n"
     ]
    }
   ],
   "source": [
    "x=100\n",
    "print(x)"
   ]
  },
  {
   "cell_type": "code",
   "execution_count": 9,
   "id": "da5f3e4e",
   "metadata": {},
   "outputs": [
    {
     "data": {
      "text/plain": [
       "100"
      ]
     },
     "execution_count": 9,
     "metadata": {},
     "output_type": "execute_result"
    }
   ],
   "source": [
    "x=100\n",
    "x"
   ]
  },
  {
   "cell_type": "code",
   "execution_count": 10,
   "id": "ecf3c795",
   "metadata": {},
   "outputs": [
    {
     "data": {
      "text/plain": [
       "int"
      ]
     },
     "execution_count": 10,
     "metadata": {},
     "output_type": "execute_result"
    }
   ],
   "source": [
    "type(x)"
   ]
  },
  {
   "cell_type": "code",
   "execution_count": 12,
   "id": "c17e3fc3",
   "metadata": {},
   "outputs": [
    {
     "data": {
      "text/plain": [
       "float"
      ]
     },
     "execution_count": 12,
     "metadata": {},
     "output_type": "execute_result"
    }
   ],
   "source": [
    "g=2150.25\n",
    "type(g)"
   ]
  },
  {
   "cell_type": "code",
   "execution_count": 13,
   "id": "ec84e54e",
   "metadata": {},
   "outputs": [],
   "source": [
    "course=\"analytics\""
   ]
  },
  {
   "cell_type": "code",
   "execution_count": 14,
   "id": "4f4e9538",
   "metadata": {},
   "outputs": [
    {
     "data": {
      "text/plain": [
       "str"
      ]
     },
     "execution_count": 14,
     "metadata": {},
     "output_type": "execute_result"
    }
   ],
   "source": [
    "type(course)"
   ]
  },
  {
   "cell_type": "code",
   "execution_count": 15,
   "id": "cdc3bce6",
   "metadata": {},
   "outputs": [
    {
     "data": {
      "text/plain": [
       "bool"
      ]
     },
     "execution_count": 15,
     "metadata": {},
     "output_type": "execute_result"
    }
   ],
   "source": [
    "z=True\n",
    "type(z)"
   ]
  },
  {
   "cell_type": "code",
   "execution_count": 16,
   "id": "15104921",
   "metadata": {},
   "outputs": [
    {
     "data": {
      "text/plain": [
       "bool"
      ]
     },
     "execution_count": 16,
     "metadata": {},
     "output_type": "execute_result"
    }
   ],
   "source": [
    "z=False\n",
    "type(z)"
   ]
  },
  {
   "cell_type": "markdown",
   "id": "07e1f9db",
   "metadata": {},
   "source": [
    "#### 1.NO decimal point-Integer\n",
    "#### 2.Decimal Point -Float\n",
    "#### 3.Text-String(shoud be in inverted comma)\n",
    "#### 4.True/False -Bool"
   ]
  },
  {
   "cell_type": "markdown",
   "id": "0fd11ed4",
   "metadata": {},
   "source": [
    "## RULES FOR NAMING THE VARIABLES"
   ]
  },
  {
   "cell_type": "code",
   "execution_count": 1,
   "id": "e48b8727",
   "metadata": {},
   "outputs": [
    {
     "data": {
      "text/plain": [
       "('samierrah', 'zaina', 'hritika', 'aiza')"
      ]
     },
     "execution_count": 1,
     "metadata": {},
     "output_type": "execute_result"
    }
   ],
   "source": [
    "name_list=\"samierrah\",\"zaina\",\"hritika\",\"aiza\"\n",
    "name_list"
   ]
  },
  {
   "cell_type": "code",
   "execution_count": 2,
   "id": "af2d07e9",
   "metadata": {},
   "outputs": [
    {
     "data": {
      "text/plain": [
       "('samierrah', 'zaina', 'hritika', 'aiza')"
      ]
     },
     "execution_count": 2,
     "metadata": {},
     "output_type": "execute_result"
    }
   ],
   "source": [
    "Name_list=\"samierrah\",\"zaina\",\"hritika\",\"aiza\"\n",
    "Name_list"
   ]
  },
  {
   "cell_type": "markdown",
   "id": "7b80611e",
   "metadata": {},
   "source": [
    "#### name_variable is a variable\n",
    "#### it can't start with a number, but can be in between\n",
    "#### eg:- n4ame_list, na9me_list, etc"
   ]
  },
  {
   "cell_type": "markdown",
   "id": "b70cfbff",
   "metadata": {},
   "source": [
    "#### special charachters are not allowed( except _) ans space is not allowed"
   ]
  },
  {
   "cell_type": "markdown",
   "id": "ccc36f1e",
   "metadata": {},
   "source": [
    "## DATA STRUCTURES"
   ]
  },
  {
   "cell_type": "code",
   "execution_count": 4,
   "id": "20e35319",
   "metadata": {
    "scrolled": true
   },
   "outputs": [
    {
     "data": {
      "text/plain": [
       "[1, 2, 3, 4, 5, 6.7, 1.34, 'hi', True]"
      ]
     },
     "execution_count": 4,
     "metadata": {},
     "output_type": "execute_result"
    }
   ],
   "source": [
    "my_list=[1,2,3,4,5,6.7,1.34,\"hi\",True]\n",
    "my_list"
   ]
  },
  {
   "cell_type": "code",
   "execution_count": 5,
   "id": "9b6b603c",
   "metadata": {},
   "outputs": [
    {
     "data": {
      "text/plain": [
       "list"
      ]
     },
     "execution_count": 5,
     "metadata": {},
     "output_type": "execute_result"
    }
   ],
   "source": [
    "type(my_list)"
   ]
  },
  {
   "cell_type": "code",
   "execution_count": 6,
   "id": "74bc2c7b",
   "metadata": {},
   "outputs": [
    {
     "data": {
      "text/plain": [
       "1"
      ]
     },
     "execution_count": 6,
     "metadata": {},
     "output_type": "execute_result"
    }
   ],
   "source": [
    "my_list[0]"
   ]
  },
  {
   "cell_type": "code",
   "execution_count": 7,
   "id": "0f4487cc",
   "metadata": {},
   "outputs": [
    {
     "data": {
      "text/plain": [
       "6.7"
      ]
     },
     "execution_count": 7,
     "metadata": {},
     "output_type": "execute_result"
    }
   ],
   "source": [
    "my_list[5]"
   ]
  },
  {
   "cell_type": "code",
   "execution_count": 8,
   "id": "fc4de668",
   "metadata": {},
   "outputs": [
    {
     "ename": "IndexError",
     "evalue": "list index out of range",
     "output_type": "error",
     "traceback": [
      "\u001b[1;31m---------------------------------------------------------------------------\u001b[0m",
      "\u001b[1;31mIndexError\u001b[0m                                Traceback (most recent call last)",
      "\u001b[1;32m~\\AppData\\Local\\Temp/ipykernel_18436/1849084039.py\u001b[0m in \u001b[0;36m<module>\u001b[1;34m\u001b[0m\n\u001b[1;32m----> 1\u001b[1;33m \u001b[0mmy_list\u001b[0m\u001b[1;33m[\u001b[0m\u001b[1;36m9\u001b[0m\u001b[1;33m]\u001b[0m\u001b[1;33m\u001b[0m\u001b[1;33m\u001b[0m\u001b[0m\n\u001b[0m",
      "\u001b[1;31mIndexError\u001b[0m: list index out of range"
     ]
    }
   ],
   "source": [
    "my_list[9]"
   ]
  },
  {
   "cell_type": "code",
   "execution_count": 10,
   "id": "6069e787",
   "metadata": {},
   "outputs": [
    {
     "data": {
      "text/plain": [
       "[1, 2, 100, 4, 5, 6.7, 1.34, 'hi', True]"
      ]
     },
     "execution_count": 10,
     "metadata": {},
     "output_type": "execute_result"
    }
   ],
   "source": [
    "my_list[2]=100\n",
    "my_list"
   ]
  },
  {
   "cell_type": "code",
   "execution_count": 11,
   "id": "da15cdc6",
   "metadata": {},
   "outputs": [
    {
     "data": {
      "text/plain": [
       "[1, 2, 100, 4, 5, 99, 1.34, 'hi', True]"
      ]
     },
     "execution_count": 11,
     "metadata": {},
     "output_type": "execute_result"
    }
   ],
   "source": [
    "my_list[5]=99\n",
    "my_list"
   ]
  },
  {
   "cell_type": "markdown",
   "id": "8dc044fb",
   "metadata": {},
   "source": [
    "#### list is hetrogeneous- it allows all data types\n",
    "#### list is written in square brackets\n",
    "#### retrieve elements using index\n",
    "#### index starts from 0\n",
    "#### change values with index\n",
    "#### list is mutable"
   ]
  },
  {
   "cell_type": "code",
   "execution_count": 14,
   "id": "e9f664a9",
   "metadata": {},
   "outputs": [
    {
     "data": {
      "text/plain": [
       "[1, 2, 3, 4, 5, 6.7, 1.34, 'hi', True]"
      ]
     },
     "execution_count": 14,
     "metadata": {},
     "output_type": "execute_result"
    }
   ],
   "source": [
    "my_tuple=(1,2,3,4,5,6.7,1.34,\"hi\",True)\n",
    "my_tuple"
   ]
  },
  {
   "cell_type": "code",
   "execution_count": 21,
   "id": "ba54bd00",
   "metadata": {},
   "outputs": [
    {
     "ename": "TypeError",
     "evalue": "'int' object is not subscriptable",
     "output_type": "error",
     "traceback": [
      "\u001b[1;31m---------------------------------------------------------------------------\u001b[0m",
      "\u001b[1;31mTypeError\u001b[0m                                 Traceback (most recent call last)",
      "\u001b[1;32m~\\AppData\\Local\\Temp/ipykernel_18436/1006402097.py\u001b[0m in \u001b[0;36m<module>\u001b[1;34m\u001b[0m\n\u001b[1;32m----> 1\u001b[1;33m \u001b[0mmy_tuple\u001b[0m\u001b[1;33m[\u001b[0m\u001b[1;36m0\u001b[0m\u001b[1;33m]\u001b[0m\u001b[1;33m\u001b[0m\u001b[1;33m\u001b[0m\u001b[0m\n\u001b[0m\u001b[0;32m      2\u001b[0m \u001b[0mmy_tuple\u001b[0m\u001b[1;33m\u001b[0m\u001b[1;33m\u001b[0m\u001b[0m\n",
      "\u001b[1;31mTypeError\u001b[0m: 'int' object is not subscriptable"
     ]
    }
   ],
   "source": [
    "my_tuple[0]\n",
    "my_tuple"
   ]
  },
  {
   "cell_type": "markdown",
   "id": "74816b1c",
   "metadata": {},
   "source": [
    "#### tuple is not mutable\n",
    "#### tuple is hetrogeneous"
   ]
  },
  {
   "cell_type": "code",
   "execution_count": 22,
   "id": "ee4bfa8d",
   "metadata": {},
   "outputs": [
    {
     "data": {
      "text/plain": [
       "type"
      ]
     },
     "execution_count": 22,
     "metadata": {},
     "output_type": "execute_result"
    }
   ],
   "source": [
    "type(tuple)"
   ]
  },
  {
   "cell_type": "code",
   "execution_count": null,
   "id": "0bdf471e",
   "metadata": {},
   "outputs": [],
   "source": []
  }
 ],
 "metadata": {
  "kernelspec": {
   "display_name": "Python 3 (ipykernel)",
   "language": "python",
   "name": "python3"
  },
  "language_info": {
   "codemirror_mode": {
    "name": "ipython",
    "version": 3
   },
   "file_extension": ".py",
   "mimetype": "text/x-python",
   "name": "python",
   "nbconvert_exporter": "python",
   "pygments_lexer": "ipython3",
   "version": "3.9.7"
  }
 },
 "nbformat": 4,
 "nbformat_minor": 5
}
